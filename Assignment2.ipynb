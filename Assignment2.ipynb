{
  "nbformat": 4,
  "nbformat_minor": 0,
  "metadata": {
    "colab": {
      "name": "Assignment2.ipynb",
      "provenance": [],
      "authorship_tag": "ABX9TyNIiKod1UQmPQFg+QbqyBGv",
      "include_colab_link": true
    },
    "kernelspec": {
      "name": "python3",
      "display_name": "Python 3"
    },
    "language_info": {
      "name": "python"
    }
  },
  "cells": [
    {
      "cell_type": "markdown",
      "metadata": {
        "id": "view-in-github",
        "colab_type": "text"
      },
      "source": [
        "<a href=\"https://colab.research.google.com/github/18k-481/NNDL/blob/main/Assignment2.ipynb\" target=\"_parent\"><img src=\"https://colab.research.google.com/assets/colab-badge.svg\" alt=\"Open In Colab\"/></a>"
      ]
    },
    {
      "cell_type": "code",
      "metadata": {
        "colab": {
          "base_uri": "https://localhost:8080/"
        },
        "id": "_Z44QMqzIWQS",
        "outputId": "c6d07199-9568-4132-f6a5-67e79da29481"
      },
      "source": [
        "from sympy import Symbol, Derivative, symbols\n",
        "x= Symbol('x')\n",
        "y= Symbol('y')\n",
        "function = x**2 + y**2 + 10\n",
        "partial_deriv= Derivative(function, y)\n",
        "dfy = partial_deriv.doit()\n",
        "partial_deriv= Derivative(function, x)\n",
        "dfx = partial_deriv.doit()\n",
        "\n",
        "print(f'first order derivatives of given function are df/dx = {dfx} ,df/dy = {dfy}')\n",
        "\n",
        "#step 1 initialise values \n",
        "x1 = 1.0  #variable x\n",
        "y1 = 1.0  #variable y\n",
        "itr = 100  #epoches\n",
        "learning_rate = 0.1  #learning rate\n",
        "for i in range(0,itr):\n",
        "    #step 2 substitute x ,y in first order derivatives df/dx, df/dy\n",
        "    x = symbols('x')\n",
        "    y = symbols('y')\n",
        "    df_dx = round((dfx.subs(x, x1)),2) \n",
        "    df_dy = round((dfy.subs(y, y1)),2) \n",
        "    dfyv = round(dfyv,2)\n",
        "    #step3 find change in x , y\n",
        "    dx = (-1.0)*learning_rate*df_dx\n",
        "    dy = (-1.0)*learning_rate*df_dy\n",
        "    #step4 update variable \n",
        "    x1 = x1 + dx\n",
        "    x1 = round(x1, 2) \n",
        "    y1 = y1 + dy\n",
        "    y1 = round(y1, 2)\n",
        "    #step5 increment iterations \n",
        "    #step6 break loop if iterations exceed no of epoches\n",
        "#step7 print variable x1, y1\n",
        "print(x1, y1)\n",
        "print(f'minimum value obtained at x = {x1} ,y ={y1} for given function')"
      ],
      "execution_count": 5,
      "outputs": [
        {
          "output_type": "stream",
          "text": [
            "first order derivatives of given function are df/dx = 2*x ,df/dy = 2*y\n",
            "0.02 0.02\n",
            "minimum value obtained at x = 0.02 ,y =0.02 for given function\n"
          ],
          "name": "stdout"
        }
      ]
    },
    {
      "cell_type": "code",
      "metadata": {
        "id": "MuuIKhoOJYjO"
      },
      "source": [
        ""
      ],
      "execution_count": null,
      "outputs": []
    }
  ]
}