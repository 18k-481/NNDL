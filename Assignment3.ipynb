{
  "nbformat": 4,
  "nbformat_minor": 0,
  "metadata": {
    "colab": {
      "name": "Assignment3.ipynb",
      "provenance": [],
      "authorship_tag": "ABX9TyOnkgZEIKnhyemcJ+g8WXKK",
      "include_colab_link": true
    },
    "kernelspec": {
      "name": "python3",
      "display_name": "Python 3"
    },
    "language_info": {
      "name": "python"
    }
  },
  "cells": [
    {
      "cell_type": "markdown",
      "metadata": {
        "id": "view-in-github",
        "colab_type": "text"
      },
      "source": [
        "<a href=\"https://colab.research.google.com/github/18k-481/NNDL/blob/main/Assignment3.ipynb\" target=\"_parent\"><img src=\"https://colab.research.google.com/assets/colab-badge.svg\" alt=\"Open In Colab\"/></a>"
      ]
    },
    {
      "cell_type": "code",
      "metadata": {
        "colab": {
          "base_uri": "https://localhost:8080/"
        },
        "id": "jHGSZD3iLtlH",
        "outputId": "a31aa12a-8dfa-4af0-db3f-919a05a35ce1"
      },
      "source": [
        "from sympy import Symbol, Derivative, symbols\n",
        "m= Symbol('m')\n",
        "c= Symbol('c')\n",
        "function = '0.5*(y-m*x-c)**2'\n",
        "partial_deriv= Derivative(function, m)\n",
        "dfm = partial_deriv.doit()\n",
        "partial_deriv= Derivative(function, c)\n",
        "dfc = partial_deriv.doit()\n",
        "x1 = [0.2,0.4,0.6,0.8,1.0,1.2]\n",
        "y1 = [2.4,3.8,4.2,4.6,5.0,5.4]\n",
        "\n",
        "print(f'first order derivatives of given function are de/dm = {dfm} ,de/dc = {dfc}')\n",
        "\n",
        "#step 1 initialise values \n",
        "m1 = 1.0 \n",
        "c1 = -1.0  \n",
        "itr = 100  #epoches\n",
        "learning_rate = 0.1  #learning rate\n",
        "for i in range(0,itr):\n",
        "    for j in range(0,len(x1)):\n",
        "        #step 2 substitute x ,y in first order derivatives df/dx, df/dy\n",
        "        m = symbols('m')\n",
        "        c = symbols('c')\n",
        "        x = symbols('x')\n",
        "        y = symbols('y')\n",
        "        df_dm = dfm.subs(m, m1) \n",
        "        df_dm = df_dm.subs(c, c1) \n",
        "        df_dm = df_dm.subs(x, x1[j]) \n",
        "        df_dm = df_dm.subs(y, y1[j]) \n",
        "        df_dm = round(df_dm,2)\n",
        "        df_dc = dfc.subs(c, c1) \n",
        "        df_dc = df_dc.subs(m, m1) \n",
        "        df_dc = df_dc.subs(x, x1[j]) \n",
        "        df_dc = df_dc.subs(y, y1[j]) \n",
        "        df_dc = round(df_dc,2)\n",
        "        #step3 find change in x , y\n",
        "        dm = (-1.0)*learning_rate*df_dm\n",
        "        dc = (-1.0)*learning_rate*df_dc\n",
        "        #step4 update variable \n",
        "        m1 = m1 + dm\n",
        "        m1 = round(m1, 2) \n",
        "        c1 = c1 + dc\n",
        "        c1 = round(c1, 2)\n",
        "    #step5 increment iterations \n",
        "    #step6 break loop if iterations exceed no of epoches\n",
        "#step7 print variable x1, y1\n",
        "print(m1, c1)\n",
        "print(f'minimum value obtained at m = {m1} ,c ={c1} for given function')"
      ],
      "execution_count": 1,
      "outputs": [
        {
          "output_type": "stream",
          "text": [
            "first order derivatives of given function are de/dm = -1.0*x*(-c - m*x + y) ,de/dc = 1.0*c + 1.0*m*x - 1.0*y\n",
            "2.71 2.32\n",
            "minimum value obtained at m = 2.71 ,c =2.32 for given function\n"
          ],
          "name": "stdout"
        }
      ]
    }
  ]
}