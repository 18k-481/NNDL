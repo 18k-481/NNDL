{
  "nbformat": 4,
  "nbformat_minor": 0,
  "metadata": {
    "colab": {
      "name": "assignment1.ipynb",
      "provenance": [],
      "collapsed_sections": [],
      "authorship_tag": "ABX9TyPgcm+XbDB2A2jZ7/fTXWuk",
      "include_colab_link": true
    },
    "kernelspec": {
      "name": "python3",
      "display_name": "Python 3"
    }
  },
  "cells": [
    {
      "cell_type": "markdown",
      "metadata": {
        "id": "view-in-github",
        "colab_type": "text"
      },
      "source": [
        "<a href=\"https://colab.research.google.com/github/18k-481/NNDL/blob/main/assignment1.ipynb\" target=\"_parent\"><img src=\"https://colab.research.google.com/assets/colab-badge.svg\" alt=\"Open In Colab\"/></a>"
      ]
    },
    {
      "cell_type": "code",
      "metadata": {
        "colab": {
          "base_uri": "https://localhost:8080/"
        },
        "id": "rrXi6wGuPTes",
        "outputId": "0cc50f35-09d2-4ef1-9909-b0436e864225"
      },
      "source": [
        "from sympy import *\r\n",
        "x=Symbol('x')\r\n",
        "y=diff(x**4+3*x**2+10,x)\r\n",
        "ini_x=1.0\r\n",
        "n=10\r\n",
        "alpha=0.1\r\n",
        "for i in range(0,n):\r\n",
        "  x=symbols('x')\r\n",
        "  df=round(y.subs(x,ini_x),2)\r\n",
        "  dx=(-1.0)*alpha*df\r\n",
        "  ini_x=round(ini_x+dx,2)\r\n",
        "print(\"first order derivative of function is \",ini_x)\r\n",
        "print('minimum value of function at x=',ini_x,'is')\r\n",
        "f=x**4+3*x**2+10\r\n",
        "print(f.subs(x,ini_x))\r\n"
      ],
      "execution_count": 20,
      "outputs": [
        {
          "output_type": "stream",
          "text": [
            "first order derivative of function is  0.0\n",
            "minimum value of function at x= 0.0 is\n",
            "10\n"
          ],
          "name": "stdout"
        }
      ]
    }
  ]
}