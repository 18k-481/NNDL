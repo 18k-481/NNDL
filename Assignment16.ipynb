{
  "nbformat": 4,
  "nbformat_minor": 0,
  "metadata": {
    "colab": {
      "name": "Assignment16.ipynb",
      "provenance": [],
      "authorship_tag": "ABX9TyMaJeitD+m7dt0cChGKh2SU",
      "include_colab_link": true
    },
    "kernelspec": {
      "name": "python3",
      "display_name": "Python 3"
    },
    "language_info": {
      "name": "python"
    }
  },
  "cells": [
    {
      "cell_type": "markdown",
      "metadata": {
        "id": "view-in-github",
        "colab_type": "text"
      },
      "source": [
        "<a href=\"https://colab.research.google.com/github/18k-481/NNDL/blob/main/Assignment16.ipynb\" target=\"_parent\"><img src=\"https://colab.research.google.com/assets/colab-badge.svg\" alt=\"Open In Colab\"/></a>"
      ]
    },
    {
      "cell_type": "code",
      "metadata": {
        "colab": {
          "base_uri": "https://localhost:8080/",
          "height": 204
        },
        "id": "MnFMhAm7Ep3f",
        "outputId": "97d5e345-e8c8-4322-a3fa-ed0adff7162a"
      },
      "source": [
        "import numpy as np\n",
        "import matplotlib.pyplot as plt\n",
        "import pandas as pd\n",
        "from sklearn.preprocessing import minmax_scale\n",
        "from sklearn.model_selection import train_test_split\n",
        "import seaborn as sns\n",
        "from scipy import stats\n",
        "data = pd.read_excel(\"/content/Load_Data_in_kW (1).xlsx\",header=None)\n",
        "data.head()"
      ],
      "execution_count": 14,
      "outputs": [
        {
          "output_type": "execute_result",
          "data": {
            "text/html": [
              "<div>\n",
              "<style scoped>\n",
              "    .dataframe tbody tr th:only-of-type {\n",
              "        vertical-align: middle;\n",
              "    }\n",
              "\n",
              "    .dataframe tbody tr th {\n",
              "        vertical-align: top;\n",
              "    }\n",
              "\n",
              "    .dataframe thead th {\n",
              "        text-align: right;\n",
              "    }\n",
              "</style>\n",
              "<table border=\"1\" class=\"dataframe\">\n",
              "  <thead>\n",
              "    <tr style=\"text-align: right;\">\n",
              "      <th></th>\n",
              "      <th>0</th>\n",
              "    </tr>\n",
              "  </thead>\n",
              "  <tbody>\n",
              "    <tr>\n",
              "      <th>0</th>\n",
              "      <td>5551.82208</td>\n",
              "    </tr>\n",
              "    <tr>\n",
              "      <th>1</th>\n",
              "      <td>4983.17184</td>\n",
              "    </tr>\n",
              "    <tr>\n",
              "      <th>2</th>\n",
              "      <td>4888.39680</td>\n",
              "    </tr>\n",
              "    <tr>\n",
              "      <th>3</th>\n",
              "      <td>5072.95872</td>\n",
              "    </tr>\n",
              "    <tr>\n",
              "      <th>4</th>\n",
              "      <td>5196.25980</td>\n",
              "    </tr>\n",
              "  </tbody>\n",
              "</table>\n",
              "</div>"
            ],
            "text/plain": [
              "            0\n",
              "0  5551.82208\n",
              "1  4983.17184\n",
              "2  4888.39680\n",
              "3  5072.95872\n",
              "4  5196.25980"
            ]
          },
          "metadata": {
            "tags": []
          },
          "execution_count": 14
        }
      ]
    },
    {
      "cell_type": "code",
      "metadata": {
        "colab": {
          "base_uri": "https://localhost:8080/"
        },
        "id": "iRJ1FoWfFIx6",
        "outputId": "be50e951-94e4-4833-874b-334753a6b497"
      },
      "source": [
        "z = np.abs(stats.zscore(data))\n",
        "print(z)"
      ],
      "execution_count": 15,
      "outputs": [
        {
          "output_type": "stream",
          "text": [
            "[[0.04910416]\n",
            " [0.08229029]\n",
            " [0.08782131]\n",
            " ...\n",
            " [0.09743692]\n",
            " [0.07253822]\n",
            " [0.03181432]]\n"
          ],
          "name": "stdout"
        }
      ]
    },
    {
      "cell_type": "code",
      "metadata": {
        "colab": {
          "base_uri": "https://localhost:8080/",
          "height": 296
        },
        "id": "upuK98-qFRPs",
        "outputId": "3b6d1cb4-3ccb-4a62-944b-b26242a041a0"
      },
      "source": [
        "sns.boxplot(x=data[0])"
      ],
      "execution_count": 16,
      "outputs": [
        {
          "output_type": "execute_result",
          "data": {
            "text/plain": [
              "<matplotlib.axes._subplots.AxesSubplot at 0x7f3fa6d92610>"
            ]
          },
          "metadata": {
            "tags": []
          },
          "execution_count": 16
        },
        {
          "output_type": "display_data",
          "data": {
            "image/png": "[encoded data removed]",
            "text/plain": [
              "<Figure size 432x288 with 1 Axes>"
            ]
          },
          "metadata": {
            "tags": [],
            "needs_background": "light"
          }
        }
      ]
    },
    {
      "cell_type": "code",
      "metadata": {
        "colab": {
          "base_uri": "https://localhost:8080/",
          "height": 204
        },
        "id": "CAXocEu2FT35",
        "outputId": "19f53d64-8697-4301-9123-78a80ef34d9c"
      },
      "source": [
        "df = data\n",
        "q = df[0].quantile(0.99)\n",
        "df[df[0] < q]\n",
        "q_low = df[0].quantile(0.01)\n",
        "q_hi  = df[0].quantile(0.99)\n",
        "\n",
        "df_filtered = df[(df[0] < q_hi) & (df[0] > q_low)]\n",
        "df_filtered.head()"
      ],
      "execution_count": 17,
      "outputs": [
        {
          "output_type": "execute_result",
          "data": {
            "text/html": [
              "<div>\n",
              "<style scoped>\n",
              "    .dataframe tbody tr th:only-of-type {\n",
              "        vertical-align: middle;\n",
              "    }\n",
              "\n",
              "    .dataframe tbody tr th {\n",
              "        vertical-align: top;\n",
              "    }\n",
              "\n",
              "    .dataframe thead th {\n",
              "        text-align: right;\n",
              "    }\n",
              "</style>\n",
              "<table border=\"1\" class=\"dataframe\">\n",
              "  <thead>\n",
              "    <tr style=\"text-align: right;\">\n",
              "      <th></th>\n",
              "      <th>0</th>\n",
              "    </tr>\n",
              "  </thead>\n",
              "  <tbody>\n",
              "    <tr>\n",
              "      <th>0</th>\n",
              "      <td>5551.82208</td>\n",
              "    </tr>\n",
              "    <tr>\n",
              "      <th>1</th>\n",
              "      <td>4983.17184</td>\n",
              "    </tr>\n",
              "    <tr>\n",
              "      <th>2</th>\n",
              "      <td>4888.39680</td>\n",
              "    </tr>\n",
              "    <tr>\n",
              "      <th>3</th>\n",
              "      <td>5072.95872</td>\n",
              "    </tr>\n",
              "    <tr>\n",
              "      <th>4</th>\n",
              "      <td>5196.25980</td>\n",
              "    </tr>\n",
              "  </tbody>\n",
              "</table>\n",
              "</div>"
            ],
            "text/plain": [
              "            0\n",
              "0  5551.82208\n",
              "1  4983.17184\n",
              "2  4888.39680\n",
              "3  5072.95872\n",
              "4  5196.25980"
            ]
          },
          "metadata": {
            "tags": []
          },
          "execution_count": 17
        }
      ]
    },
    {
      "cell_type": "code",
      "metadata": {
        "colab": {
          "base_uri": "https://localhost:8080/"
        },
        "id": "1yc6GNGfFXG1",
        "outputId": "8e361708-36e8-4768-ab8e-90404142c0f7"
      },
      "source": [
        "print(len(data))\n",
        "print(len(df_filtered))\n",
        "if(len(data) == len(df_filtered)):\n",
        "    print('No outliners')"
      ],
      "execution_count": 18,
      "outputs": [
        {
          "output_type": "stream",
          "text": [
            "2184\n",
            "2140\n"
          ],
          "name": "stdout"
        }
      ]
    },
    {
      "cell_type": "code",
      "metadata": {
        "colab": {
          "base_uri": "https://localhost:8080/",
          "height": 204
        },
        "id": "CFht0H8MFZuE",
        "outputId": "0544898b-8888-4448-b7fc-3b07a27fab6d"
      },
      "source": [
        "data = df_filtered\n",
        "data_n = data.copy()\n",
        "data_n = (data_n - data_n.min())/(data_n.max() - data_n.min())\n",
        "data_n.head()"
      ],
      "execution_count": 19,
      "outputs": [
        {
          "output_type": "execute_result",
          "data": {
            "text/html": [
              "<div>\n",
              "<style scoped>\n",
              "    .dataframe tbody tr th:only-of-type {\n",
              "        vertical-align: middle;\n",
              "    }\n",
              "\n",
              "    .dataframe tbody tr th {\n",
              "        vertical-align: top;\n",
              "    }\n",
              "\n",
              "    .dataframe thead th {\n",
              "        text-align: right;\n",
              "    }\n",
              "</style>\n",
              "<table border=\"1\" class=\"dataframe\">\n",
              "  <thead>\n",
              "    <tr style=\"text-align: right;\">\n",
              "      <th></th>\n",
              "      <th>0</th>\n",
              "    </tr>\n",
              "  </thead>\n",
              "  <tbody>\n",
              "    <tr>\n",
              "      <th>0</th>\n",
              "      <td>0.372950</td>\n",
              "    </tr>\n",
              "    <tr>\n",
              "      <th>1</th>\n",
              "      <td>0.254941</td>\n",
              "    </tr>\n",
              "    <tr>\n",
              "      <th>2</th>\n",
              "      <td>0.235273</td>\n",
              "    </tr>\n",
              "    <tr>\n",
              "      <th>3</th>\n",
              "      <td>0.273574</td>\n",
              "    </tr>\n",
              "    <tr>\n",
              "      <th>4</th>\n",
              "      <td>0.299162</td>\n",
              "    </tr>\n",
              "  </tbody>\n",
              "</table>\n",
              "</div>"
            ],
            "text/plain": [
              "          0\n",
              "0  0.372950\n",
              "1  0.254941\n",
              "2  0.235273\n",
              "3  0.273574\n",
              "4  0.299162"
            ]
          },
          "metadata": {
            "tags": []
          },
          "execution_count": 19
        }
      ]
    },
    {
      "cell_type": "code",
      "metadata": {
        "colab": {
          "base_uri": "https://localhost:8080/",
          "height": 221
        },
        "id": "tkZ9M8SdFcaa",
        "outputId": "8eee5be7-b5b3-4993-975f-ffc9cd7918b6"
      },
      "source": [
        "train_data,test_data = train_test_split(data_n,test_size=0.1)\n",
        "\n",
        "print(len(train_data))\n",
        "train_data.head()"
      ],
      "execution_count": 20,
      "outputs": [
        {
          "output_type": "stream",
          "text": [
            "1926\n"
          ],
          "name": "stdout"
        },
        {
          "output_type": "execute_result",
          "data": {
            "text/html": [
              "<div>\n",
              "<style scoped>\n",
              "    .dataframe tbody tr th:only-of-type {\n",
              "        vertical-align: middle;\n",
              "    }\n",
              "\n",
              "    .dataframe tbody tr th {\n",
              "        vertical-align: top;\n",
              "    }\n",
              "\n",
              "    .dataframe thead th {\n",
              "        text-align: right;\n",
              "    }\n",
              "</style>\n",
              "<table border=\"1\" class=\"dataframe\">\n",
              "  <thead>\n",
              "    <tr style=\"text-align: right;\">\n",
              "      <th></th>\n",
              "      <th>0</th>\n",
              "    </tr>\n",
              "  </thead>\n",
              "  <tbody>\n",
              "    <tr>\n",
              "      <th>1908</th>\n",
              "      <td>0.395077</td>\n",
              "    </tr>\n",
              "    <tr>\n",
              "      <th>906</th>\n",
              "      <td>0.822081</td>\n",
              "    </tr>\n",
              "    <tr>\n",
              "      <th>205</th>\n",
              "      <td>0.641057</td>\n",
              "    </tr>\n",
              "    <tr>\n",
              "      <th>976</th>\n",
              "      <td>0.746870</td>\n",
              "    </tr>\n",
              "    <tr>\n",
              "      <th>2051</th>\n",
              "      <td>0.234950</td>\n",
              "    </tr>\n",
              "  </tbody>\n",
              "</table>\n",
              "</div>"
            ],
            "text/plain": [
              "             0\n",
              "1908  0.395077\n",
              "906   0.822081\n",
              "205   0.641057\n",
              "976   0.746870\n",
              "2051  0.234950"
            ]
          },
          "metadata": {
            "tags": []
          },
          "execution_count": 20
        }
      ]
    },
    {
      "cell_type": "code",
      "metadata": {
        "id": "VcQaugE3FqJa"
      },
      "source": [
        "xa = []\n",
        "ya = []\n",
        "xa1 = []\n",
        "for i in range(24,len(train_data.iloc[:,0])):\n",
        "    xa.append(train_data.iloc[i-24,0])\n",
        "    ya.append(train_data.iloc[i,0])\n",
        "    xa1.append(train_data.iloc[i-1,0])"
      ],
      "execution_count": 21,
      "outputs": []
    },
    {
      "cell_type": "code",
      "metadata": {
        "colab": {
          "base_uri": "https://localhost:8080/"
        },
        "id": "F9W9X0R-FtUg",
        "outputId": "f07f73de-7ea9-4de2-b5ad-e34956db7f4c"
      },
      "source": [
        "from sympy import Symbol, Derivative, symbols\n",
        "w1= Symbol('m1')\n",
        "w2= Symbol('m2')\n",
        "c= Symbol('c')\n",
        "function = '0.5*(y-m1*x1-m2*x2-c)**2'\n",
        "partialderiv= Derivative(function, w1)\n",
        "dfm1 = partialderiv.doit()\n",
        "partialderiv= Derivative(function, w2)\n",
        "dfm2 = partialderiv.doit()\n",
        "partialderiv= Derivative(function, c)\n",
        "dfc = partialderiv.doit()\n",
        "err = []\n",
        "print(f'first order derivatives of given function are de/dm1 = {dfm1},de/dm2 = {dfm2} ,de/dc = {dfc}')\n",
        "\n",
        "#step 1 initialise values \n",
        "m1 = 1.0 \n",
        "m2 = 1.0\n",
        "c1 = -1.0  \n",
        "itr = 10\n",
        "EM1 = 0\n",
        "EM2 = 0\n",
        "EC = 0\n",
        "ep = 10**(-8)\n",
        "gama = 0.9\n",
        "learning_rate = 0.1 \n",
        "for i in range(0,itr):\n",
        "    er = 0\n",
        "    for j in range(0,len(xa)):\n",
        "        er +=  ((ya[j] - (m1 * xa[j])-(m2 * xa1[j]) - c1))**2\n",
        "        #step 2 substitute x ,y in first order derivatives df/dx, df/dy\n",
        "        w1= Symbol('m1')\n",
        "        w2= Symbol('m2')\n",
        "        c = symbols('c')\n",
        "        x1 = symbols('x1')\n",
        "        x2 = symbols('x2')\n",
        "        y = symbols('y')\n",
        "        dfm1v = dfm1.subs(w1, m1)\n",
        "        dfm1v = dfm1v.subs(w2,m2)\n",
        "        dfm1v = dfm1v.subs(c, c1) \n",
        "        dfm1v = dfm1v.subs(x1, xa[j])\n",
        "        dfm1v = dfm1v.subs(x2, xa1[j])\n",
        "        dfm1v = dfm1v.subs(y, ya[j])         \n",
        "        dfm2v = dfm2.subs(w2, m2)\n",
        "        dfm2v = dfm2v.subs(w1,m1)\n",
        "        dfm2v = dfm2v.subs(c, c1) \n",
        "        dfm2v = dfm2v.subs(x1, xa[j])\n",
        "        dfm2v = dfm2v.subs(x2, xa1[j])\n",
        "        dfm2v = dfm2v.subs(y, ya[j]) \n",
        "        dfm2v = round(dfm2v,2)\n",
        "        dfcv = dfc.subs(c, c1)   \n",
        "        dfcv = dfcv.subs(w2, m2)\n",
        "        dfcv = dfcv.subs(w1,m1)\n",
        "        dfcv = dfcv.subs(x1, xa[j])\n",
        "        dfcv = dfcv.subs(x2, xa1[j])\n",
        "        dfcv = dfcv.subs(y, ya[j]) \n",
        "        dfcv = round(dfcv,2)\n",
        "        \n",
        "        EM1 = gama*EM1 + (1-gama)*(dfm1v**2)        \n",
        "        EM2 = gama*EM2 + (1-gama)*(dfm2v**2)\n",
        "        EC = gama*EC + (1-gama)*(dfcv**2)\n",
        "        #step3 find change in x , y\n",
        "        dm1 = (-1.0)*(learning_rate/(EM1+ep)**(0.5))*dfm1v\n",
        "        dm2 = (-1.0)*(learning_rate/(EM2+ep)**(0.5))*dfm2v\n",
        "        dc = (-1.0)*(learning_rate/(EC+ep)**(0.5))*dfcv\n",
        "        #step4 update variable \n",
        "        m1 = m1 + dm1\n",
        "        m1 = round(m1, 2)\n",
        "        m2 = m2 + dm2\n",
        "        m2 = round(m2, 2)\n",
        "        c1 = c1 + dc\n",
        "        c1 = round(c1, 2)\n",
        "        \n",
        "        er = (1/(2*len(xa)))*(er)\n",
        "        err.append(er)\n",
        "\n",
        "print(m1,m2, c1)\n",
        "print(f'minimum value obtained at m1 = {m1} ,m2 = {m2} ,c ={c1} for given function')"
      ],
      "execution_count": 23,
      "outputs": [
        {
          "output_type": "stream",
          "text": [
            "first order derivatives of given function are de/dm1 = -1.0*x1*(-c - m1*x1 - m2*x2 + y),de/dm2 = -1.0*x2*(-c - m1*x1 - m2*x2 + y) ,de/dc = 1.0*c + 1.0*m1*x1 + 1.0*m2*x2 - 1.0*y\n",
            "0.25 -0.71 0.65\n",
            "minimum value obtained at m1 = 0.25 ,m2 = -0.71 ,c =0.65 for given function\n"
          ],
          "name": "stdout"
        }
      ]
    },
    {
      "cell_type": "code",
      "metadata": {
        "colab": {
          "base_uri": "https://localhost:8080/"
        },
        "id": "9Ca4DtEZGKRG",
        "outputId": "2e52a7e1-9b74-460f-bf2d-60b7a3cc5944"
      },
      "source": [
        "train_data_pred = [i for i in xa]\n",
        "for k in range(len(xa)):\n",
        "    train_data_pred[k]=(m1*xa[k]*xa1[k] + c1)\n",
        "from sklearn.metrics import mean_squared_error\n",
        "mse = mean_squared_error(ya,train_data_pred)\n",
        "mse"
      ],
      "execution_count": 24,
      "outputs": [
        {
          "output_type": "execute_result",
          "data": {
            "text/plain": [
              "0.10193994039594285"
            ]
          },
          "metadata": {
            "tags": []
          },
          "execution_count": 24
        }
      ]
    },
    {
      "cell_type": "code",
      "metadata": {
        "id": "KoVdvqR5GNnf"
      },
      "source": [
        "plt.plot(np.array(xa),np.array(train_data_pred),color='black')\n",
        "plt.scatter(np.array(xa),np.array(ya),color='red')\n",
        "plt.title('predicted data vs actual data')"
      ],
      "execution_count": null,
      "outputs": []
    },
    {
      "cell_type": "code",
      "metadata": {
        "colab": {
          "base_uri": "https://localhost:8080/",
          "height": 295
        },
        "id": "8DyGitt8GRSr",
        "outputId": "d5935394-0582-4088-a3ef-1dc12615139a"
      },
      "source": [
        "iters = np.arange(itr*len(xa))\n",
        "plt.plot(iters,err,'blue')\n",
        "plt.title(\"Error graph for training data\")\n",
        "plt.xlabel(\"iteration count\")\n",
        "plt.ylabel(\"error\")\n",
        "plt.grid()"
      ],
      "execution_count": 27,
      "outputs": [
        {
          "output_type": "display_data",
          "data": {
            "image/png": "[encoded data removed]",
            "text/plain": [
              "<Figure size 432x288 with 1 Axes>"
            ]
          },
          "metadata": {
            "tags": [],
            "needs_background": "light"
          }
        }
      ]
    },
    {
      "cell_type": "code",
      "metadata": {
        "colab": {
          "base_uri": "https://localhost:8080/"
        },
        "id": "sJw03LwKGYGw",
        "outputId": "ced8efe4-8777-4063-9603-8959a6318b9f"
      },
      "source": [
        "xa = []\n",
        "ya = []\n",
        "for i in range(len(test_data.iloc[:,0])-24):\n",
        "    xa.append(test_data.iloc[i,0])\n",
        "    ya.append(test_data.iloc[i+24,0])\n",
        "test_data_pred = [i for i in xa]\n",
        "for k in range(len(xa)):\n",
        "    test_data_pred[k]=(m1*xa[k] + c1)\n",
        "from sklearn.metrics import mean_squared_error\n",
        "mse = mean_squared_error(ya,test_data_pred)\n",
        "mse"
      ],
      "execution_count": 28,
      "outputs": [
        {
          "output_type": "execute_result",
          "data": {
            "text/plain": [
              "0.12165881165237193"
            ]
          },
          "metadata": {
            "tags": []
          },
          "execution_count": 28
        }
      ]
    },
    {
      "cell_type": "code",
      "metadata": {
        "colab": {
          "base_uri": "https://localhost:8080/",
          "height": 265
        },
        "id": "9LHabJrFGaoU",
        "outputId": "c5de1c4e-63d1-4a74-eb08-1177956df922"
      },
      "source": [
        "plt.scatter(xa,ya,color='red')\n",
        "plt.plot(xa,test_data_pred,'black')\n",
        "plt.grid()"
      ],
      "execution_count": 29,
      "outputs": [
        {
          "output_type": "display_data",
          "data": {
            "image/png": "[encoded data removed]",
            "text/plain": [
              "<Figure size 432x288 with 1 Axes>"
            ]
          },
          "metadata": {
            "tags": [],
            "needs_background": "light"
          }
        }
      ]
    },
    {
      "cell_type": "code",
      "metadata": {
        "colab": {
          "base_uri": "https://localhost:8080/"
        },
        "id": "9PHb4kpXGfcP",
        "outputId": "03968284-98e1-4048-be3d-f9a22d20708b"
      },
      "source": [
        "x_max = y_max= 8841.669480\n",
        "x_min = y_min = 3377.919600\n",
        "x =x1 = float(input(\"enter load of previous hour :\"))\n",
        "x = (x - x_min)/(x_max - x_min)\n",
        "y = m1*x + c1\n",
        "y = y*(y_max - y_min) + y_min\n",
        "print(f\"load at hour based on its previous hour is : {y}\")"
      ],
      "execution_count": 30,
      "outputs": [
        {
          "output_type": "stream",
          "text": [
            "enter load of previous hour :5061\n",
            "load at hour based on its previous hour is : 7352.26139929688\n"
          ],
          "name": "stdout"
        }
      ]
    }
  ]
}