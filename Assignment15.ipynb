{
  "nbformat": 4,
  "nbformat_minor": 0,
  "metadata": {
    "colab": {
      "name": "Assignment15.ipynb",
      "provenance": [],
      "authorship_tag": "ABX9TyPnMN9KSztI+VTEvkEV6HBt",
      "include_colab_link": true
    },
    "kernelspec": {
      "name": "python3",
      "display_name": "Python 3"
    },
    "language_info": {
      "name": "python"
    }
  },
  "cells": [
    {
      "cell_type": "markdown",
      "metadata": {
        "id": "view-in-github",
        "colab_type": "text"
      },
      "source": [
        "<a href=\"https://colab.research.google.com/github/18k-481/NNDL/blob/main/Assignment15.ipynb\" target=\"_parent\"><img src=\"https://colab.research.google.com/assets/colab-badge.svg\" alt=\"Open In Colab\"/></a>"
      ]
    },
    {
      "cell_type": "code",
      "metadata": {
        "colab": {
          "base_uri": "https://localhost:8080/"
        },
        "id": "caFiokQD8Pie",
        "outputId": "2ffb09b1-e8dd-42de-a5d0-9ea15aec1025"
      },
      "source": [
        "from sympy import Symbol, Derivative, symbols\n",
        "m= Symbol('m')\n",
        "c= Symbol('c')\n",
        "function = '0.5*(y-m*x-c)**2'\n",
        "partialderiv= Derivative(function, m)\n",
        "dfm = partialderiv.doit()\n",
        "partialderiv= Derivative(function, c)\n",
        "dfc = partialderiv.doit()\n",
        "xa = [0.2,0.4,0.6,0.8,1.0,1.2]\n",
        "ya = [2.4,3.8,4.2,4.6,5.0,5.4]\n",
        "\n",
        "print(f'first order derivatives of given function are de/dm = {dfm} ,de/dc = {dfc}')\n",
        "\n",
        "#step 1 initialise values \n",
        "m1 = 1.0 \n",
        "c1 = -1.0 \n",
        "itr = 100  \n",
        "EM = 0\n",
        "EC = 0\n",
        "ep = 10**(-8)\n",
        "gama = 0.9\n",
        "learning_rate = 0.1\n",
        "for i in range(0,itr):\n",
        "    for j in range(0,len(xa)):\n",
        "        #step 2 substitute x ,y in first order derivatives df/dx, df/dy\n",
        "        m = symbols('m')\n",
        "        c = symbols('c')\n",
        "        x = symbols('x')\n",
        "        y = symbols('y')\n",
        "        dfmv = dfm.subs(m, m1) \n",
        "        dfmv = dfmv.subs(c, c1) \n",
        "        dfmv = dfmv.subs(x, xa[j]) \n",
        "        dfmv = dfmv.subs(y, ya[j]) \n",
        "        dfmv = round(dfmv,2)\n",
        "        dfcv = dfc.subs(c, c1) \n",
        "        dfcv = dfcv.subs(m, m1) \n",
        "        dfcv = dfcv.subs(x, xa[j]) \n",
        "        dfcv = dfcv.subs(y, ya[j]) \n",
        "        dfcv = round(dfcv,2)\n",
        "        EM = gama*EM + (1-gama)*(dfmv**2)\n",
        "        EC = gama*EC + (1-gama)*(dfcv**2)\n",
        "        #step3 find change in x , y\n",
        "        dm = (-1.0)*(learning_rate/(EM+ep)**(0.5))*dfmv\n",
        "        dc = (-1.0)*(learning_rate/(EC+ep)**(0.5))*dfcv\n",
        "        #step4 update variable \n",
        "        m1 = m1 + dm\n",
        "        m1 = round(m1, 2) \n",
        "        c1 = c1 + dc\n",
        "        c1 = round(c1, 2)\n",
        "\n",
        "\n",
        "print(m1, c1)\n",
        "print(f'minimum value obtained at m = {m1} ,c ={c1} for given function')"
      ],
      "execution_count": 1,
      "outputs": [
        {
          "output_type": "stream",
          "text": [
            "first order derivatives of given function are de/dm = -1.0*x*(-c - m*x + y) ,de/dc = 1.0*c + 1.0*m*x - 1.0*y\n",
            "2.47 2.40\n",
            "minimum value obtained at m = 2.47 ,c =2.40 for given function\n"
          ],
          "name": "stdout"
        }
      ]
    },
    {
      "cell_type": "code",
      "metadata": {
        "colab": {
          "base_uri": "https://localhost:8080/",
          "height": 295
        },
        "id": "_6_vzJE48-1z",
        "outputId": "be657351-0385-4c33-ad83-d85a536d2dce"
      },
      "source": [
        "import matplotlib.pyplot as plt\n",
        "import numpy as np\n",
        "x = np.linspace(-5,5,100)\n",
        "y = m1*x+c1\n",
        "plt.plot(x, y, '-r', label='y='+str(m1)+'x+'+str(c1))\n",
        "plt.title('Graph of '+'y='+str(m1)+'x+'+str(c1))\n",
        "plt.xlabel('x', color='blue')\n",
        "plt.ylabel('y', color='blue')\n",
        "plt.legend(loc='upper left')\n",
        "plt.grid()\n",
        "plt.show()"
      ],
      "execution_count": 2,
      "outputs": [
        {
          "output_type": "display_data",
          "data": {
            "image/png": "[encoded data removed]",
            "text/plain": [
              "<Figure size 432x288 with 1 Axes>"
            ]
          },
          "metadata": {
            "tags": [],
            "needs_background": "light"
          }
        }
      ]
    }
  ]
}